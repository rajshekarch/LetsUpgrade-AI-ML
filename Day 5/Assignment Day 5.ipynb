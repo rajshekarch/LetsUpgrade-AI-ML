{
 "cells": [
  {
   "cell_type": "markdown",
   "metadata": {},
   "source": [
    "## Question 1 :"
   ]
  },
  {
   "cell_type": "markdown",
   "metadata": {},
   "source": [
    "Write a Python program to find the first 20 non-even prime natural numbers"
   ]
  },
  {
   "cell_type": "code",
   "execution_count": 1,
   "metadata": {},
   "outputs": [
    {
     "name": "stdout",
     "output_type": "stream",
     "text": [
      "Enter lower range: 1\n",
      "Enter upper range: 75\n",
      "3\n",
      "5\n",
      "7\n",
      "11\n",
      "13\n",
      "17\n",
      "19\n",
      "23\n",
      "29\n",
      "31\n",
      "37\n",
      "41\n",
      "43\n",
      "47\n",
      "53\n",
      "59\n",
      "61\n",
      "67\n",
      "71\n",
      "73\n"
     ]
    }
   ],
   "source": [
    "lower = int(input(\"Enter lower range: \"))  #range\n",
    "upper = int(input(\"Enter upper range: \"))  #range to find the first non-even prime natural numbers\n",
    "  \n",
    "for num in range(lower,upper + 1):  \n",
    "   if num > 1:  \n",
    "       for i in range(2,num):  \n",
    "           if (num % i) == 0:  #to find the prime numbers\n",
    "               break  \n",
    "       else:\n",
    "        if(num%2!=0):          #to print all the non-even prime numbers\n",
    "           print(num)  "
   ]
  },
  {
   "cell_type": "markdown",
   "metadata": {},
   "source": [
    "## Question 2 :"
   ]
  },
  {
   "cell_type": "markdown",
   "metadata": {},
   "source": [
    "Write a Python program to implement 15 functions of string."
   ]
  },
  {
   "cell_type": "code",
   "execution_count": 2,
   "metadata": {},
   "outputs": [
    {
     "name": "stdout",
     "output_type": "stream",
     "text": [
      "\n",
      "########################################################\n",
      "\n",
      "China : The String is alphanumeric.\n",
      "\n",
      "1974 : The String contains only digits.\n",
      "\n",
      "Australia : String contains only alphabetic characters.\n",
      "\n",
      "    : String contains only whitespace characters.\n",
      "\n",
      "JAPAN : All letters in the string are uppercase.\n",
      "\n",
      "India 1974 : Convert String in lowercase: india 1974 \n",
      "\n",
      "India 1974 : Convert String in uppercase: INDIA 1974 \n",
      "\n",
      "\n",
      "Left Strip: India 1974\n",
      "\n",
      "Left Strip with Character A: merica 1974\n",
      "\n",
      "Right Strip: America 1974     \n",
      "\n",
      "Right Strip with Character a: Americ\n",
      "\n",
      "Strip from both side : America 1974\n",
      "\n",
      "Strip with Character A: merica Russia Japan China\n",
      "Strip with Character a: America Russia Japan Chin\n",
      "\n",
      "endswith check whether a string ends with a specified substring\n",
      "True\n",
      "False\n",
      "\n",
      "startswith check if a string starts with a specified substring\n",
      "True\n",
      "False\n",
      "\n",
      "################## Find Method ##################\n",
      "2\n",
      "-1\n",
      "5\n",
      "-1\n",
      "0\n",
      "\n",
      "################## Replace Method ##################\n",
      "Hello Russia\n"
     ]
    }
   ],
   "source": [
    "def main():\n",
    "    print('\\n########################################################\\n')\n",
    " \n",
    "    user_string = \"China\"\n",
    "    if user_string.isalnum():\n",
    "        print(user_string, ': The String is alphanumeric.\\n')\n",
    " \n",
    "    user_string = \"1974\"\n",
    "    if user_string.isdigit():\n",
    "        print(user_string, ': The String contains only digits.\\n')\n",
    " \n",
    "    user_string = \"Australia\"\n",
    "    if user_string.isalpha():\n",
    "        print(user_string, ': String contains only alphabetic characters.\\n')\n",
    " \n",
    "    user_string = \"   \"\n",
    "    if user_string.isspace():\n",
    "        print(user_string, ': String contains only whitespace characters.\\n')\n",
    " \n",
    "    user_string = \"JAPAN\"\n",
    "    if user_string.isupper():\n",
    "        print(user_string, ': All letters in the string are uppercase.\\n')\n",
    " \n",
    "    user_string = \"Australia 1974\"\n",
    "    if user_string.islower():\n",
    "        print(user_string, ': All letters in the string are lowercase.\\n')\n",
    " \n",
    "    user_string = \"India 1974\"\n",
    "    toLower = user_string.lower()\n",
    "    print(user_string, ': Convert String in lowercase:', toLower, '\\n')\n",
    " \n",
    "    toUpper = user_string.upper()\n",
    "    print(user_string, ': Convert String in uppercase:', toUpper, '\\n')\n",
    " \n",
    "    # lstrip() Returns a copy of the string with all leading whitespace\n",
    "    # characters removed, that appear at the beginning of the string.\n",
    "    user_string = \"   India 1974\"\n",
    "    print('\\nLeft Strip:', user_string.lstrip())\n",
    " \n",
    "    # lstrip(char) Returns a copy of the string with all instances of\n",
    "    # char that appear at the beginning of the string removed.\n",
    "    user_string = \"America 1974\"\n",
    "    print('\\nLeft Strip with Character A:', user_string.lstrip('A'))\n",
    " \n",
    "    # rstrip() Returns a copy of the string with all leading whitespace\n",
    "    # characters removed, that appear at the end of the string.\n",
    "    user_string = \"America 1974     \"\n",
    "    print('\\nRight Strip:', user_string.rstrip('A'))\n",
    " \n",
    "    # rstrip(char) Returns a copy of the string with all instances of\n",
    "    # char that appear at the end of the string.\n",
    "    user_string = \"America\"\n",
    "    print('\\nRight Strip with Character a:', user_string.rstrip('a'))\n",
    " \n",
    "    # strip() returns a copy of the string with all leading\n",
    "    # and trailing whitespace characters removed.\n",
    "    user_string = \"   America 1974    \"\n",
    "    print('\\nStrip from both side :', user_string.strip())\n",
    " \n",
    "    # strip(char) Returns a copy of the string with all instances of\n",
    "    # char that appear at the beginning and the end of the string removed.\n",
    "    user_string = \"America Russia Japan China\"\n",
    "    print('\\nStrip with Character A:', user_string.strip('A'))\n",
    "    print('Strip with Character a:', user_string.strip('a'))\n",
    " \n",
    "    # endswith(substring) The substring argument is a string.\n",
    "    # The method returns true if the string ends with substring.\n",
    "    print('\\nendswith check whether a string ends with a specified substring')\n",
    "    user_string = \"Columbia\"\n",
    "    print(user_string.endswith('bia'))\n",
    "    print(user_string.endswith('mia'))\n",
    " \n",
    "    # startswith(substring) The substring argument is a string.\n",
    "    # The method returns true if the string starts with substring.\n",
    "    print('\\nstartswith check if a string starts with a specified substring')\n",
    "    user_string = \"Columbia\"\n",
    "    print(user_string.startswith('Colum'))\n",
    "    print(user_string.startswith('Rolum'))\n",
    " \n",
    "    # The substring argument is a string. The method returns the lowest\n",
    "    # index in the string where substring is found.\n",
    "    print('\\n################## Find Method ##################')\n",
    "    user_string = \"Columbia\"\n",
    "    print(user_string.find('lumbia'))\n",
    "    print(user_string.find('colbia'))\n",
    "    print(user_string.find('bia'))\n",
    "    print(user_string.find('col'))\n",
    "    print(user_string.find('Col'))\n",
    " \n",
    "    # replace(old, new) The old and new arguments are both strings. The method\n",
    "    # returns a copy of the string with all instances of old replaced by new.\n",
    "    print('\\n################## Replace Method ##################')\n",
    "    user_string = \"Hello Columbia\"\n",
    "    old = \"Columbia\"\n",
    "    new = \"Russia\"\n",
    "    print(user_string.replace(old, new))\n",
    " \n",
    "main()"
   ]
  },
  {
   "cell_type": "markdown",
   "metadata": {},
   "source": [
    "## Question 3:"
   ]
  },
  {
   "cell_type": "markdown",
   "metadata": {},
   "source": [
    "Write a Python program to check if the given string is a Palindrome or Anagram or None of them.\n",
    "Display the message accordingly to the user."
   ]
  },
  {
   "cell_type": "code",
   "execution_count": 3,
   "metadata": {},
   "outputs": [
    {
     "name": "stdout",
     "output_type": "stream",
     "text": [
      "Enter the string :listen\n",
      "Enter the string 2:silent\n",
      "The strings are anagrams.\n"
     ]
    }
   ],
   "source": [
    "string = str(input(\"Enter the string :\"))     #input of the string 1\n",
    "string2 = str(input(\"Enter the string 2:\"))   #input of the string 2\n",
    "rev_str = reversed(string)\n",
    "if list(string) == list(rev_str):\n",
    "   print(\"The string is a palindrome.\")      #check whether the string is palindrome.\n",
    "elif(sorted(string)== sorted(string2)): \n",
    "        print(\"The strings are anagrams.\")   #check whether the string is anagram.\n",
    "else: \n",
    "        print(\"Not a Palindrome or Anagrams.\")   "
   ]
  },
  {
   "cell_type": "markdown",
   "metadata": {},
   "source": [
    "## Question 4:"
   ]
  },
  {
   "cell_type": "markdown",
   "metadata": {},
   "source": [
    "Write a Python's user defined function that removes all the additional characters from the string\n",
    "and converts it finally to lower case using built-in lower(). eg: If the string is \"Dr. Darshan Ingle\n",
    "@AI-ML Trainer\", then the output be \"drdarshaningleaimltrainer\"."
   ]
  },
  {
   "cell_type": "code",
   "execution_count": 4,
   "metadata": {},
   "outputs": [
    {
     "data": {
      "text/plain": [
       "'drdarshaningleaimltrainer'"
      ]
     },
     "execution_count": 4,
     "metadata": {},
     "output_type": "execute_result"
    }
   ],
   "source": [
    "string = \"Dr. Darshan Ingle @AI-ML Trainer\"\n",
    "s = string.lower()\n",
    "''.join(e for e in s if e.isalnum())"
   ]
  }
 ],
 "metadata": {
  "kernelspec": {
   "display_name": "Python 3",
   "language": "python",
   "name": "python3"
  },
  "language_info": {
   "codemirror_mode": {
    "name": "ipython",
    "version": 3
   },
   "file_extension": ".py",
   "mimetype": "text/x-python",
   "name": "python",
   "nbconvert_exporter": "python",
   "pygments_lexer": "ipython3",
   "version": "3.7.3"
  }
 },
 "nbformat": 4,
 "nbformat_minor": 4
}
